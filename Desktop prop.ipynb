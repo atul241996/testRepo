{
 "cells": [
  {
   "cell_type": "code",
   "execution_count": 1,
   "metadata": {},
   "outputs": [
    {
     "name": "stdout",
     "output_type": "stream",
     "text": [
      "('\\\\\\\\.\\\\DISPLAY1', 'Intel(R) HD Graphics 5500')\n",
      "Color: 0\n",
      "BitsPerPel: 32\n",
      "DisplayFrequency: 60\n"
     ]
    }
   ],
   "source": [
    "import win32api\n",
    "\n",
    "def printInfo(device):\n",
    "    print((device.DeviceName, device.DeviceString))\n",
    "    settings = win32api.EnumDisplaySettings(device.DeviceName, -1)\n",
    "    for varName in ['Color', 'BitsPerPel', 'DisplayFrequency']:\n",
    "        print(\"%s: %s\"%(varName, getattr(settings, varName)))\n",
    "\n",
    "device = win32api.EnumDisplayDevices()\n",
    "printInfo(device)"
   ]
  },
  {
   "cell_type": "code",
   "execution_count": null,
   "metadata": {},
   "outputs": [],
   "source": []
  }
 ],
 "metadata": {
  "kernelspec": {
   "display_name": "Python 3",
   "language": "python",
   "name": "python3"
  },
  "language_info": {
   "codemirror_mode": {
    "name": "ipython",
    "version": 3
   },
   "file_extension": ".py",
   "mimetype": "text/x-python",
   "name": "python",
   "nbconvert_exporter": "python",
   "pygments_lexer": "ipython3",
   "version": "3.7.6"
  }
 },
 "nbformat": 4,
 "nbformat_minor": 4
}
