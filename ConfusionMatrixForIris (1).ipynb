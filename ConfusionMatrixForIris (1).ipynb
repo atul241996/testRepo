{
 "cells": [
  {
   "cell_type": "code",
   "execution_count": 2,
   "metadata": {},
   "outputs": [],
   "source": [
    "from sklearn import svm, datasets\n",
    "import pandas as pd\n",
    "from sklearn.model_selection import train_test_split\n",
    "import numpy as np\n",
    "df=pd.read_csv(\"Iris.csv\")"
   ]
  },
  {
   "cell_type": "code",
   "execution_count": 14,
   "metadata": {},
   "outputs": [
    {
     "name": "stdout",
     "output_type": "stream",
     "text": [
      "[[13  0  0]\n",
      " [ 0 16  0]\n",
      " [ 0  1  8]]\n",
      "0.9736842105263158\n",
      "                 precision    recall  f1-score   support\n",
      "\n",
      "    Iris-setosa       1.00      1.00      1.00        13\n",
      "Iris-versicolor       0.94      1.00      0.97        16\n",
      " Iris-virginica       1.00      0.89      0.94         9\n",
      "\n",
      "       accuracy                           0.97        38\n",
      "      macro avg       0.98      0.96      0.97        38\n",
      "   weighted avg       0.98      0.97      0.97        38\n",
      "\n"
     ]
    }
   ],
   "source": [
    "from sklearn.tree import DecisionTreeClassifier\n",
    "import pandas as pd\n",
    "import matplotlib.pyplot as plt\n",
    "import numpy as np\n",
    "from sklearn.model_selection import train_test_split\n",
    "from sklearn.metrics import classification_report, confusion_matrix\n",
    "from sklearn.metrics import confusion_matrix \n",
    "from sklearn.metrics import accuracy_score \n",
    "from sklearn.metrics import average_precision_score\n",
    "from sklearn.metrics import classification_report \n",
    "df = pd.read_csv(\"Iris.csv\")\n",
    "ds=np.array(df)\n",
    "features=ds[:,:-1]\n",
    "labels=ds[:,-1:]\n",
    "X_Train,X_Test,y_Train,y_Test=train_test_split(features,labels,random_state=0)\n",
    "clfr=DecisionTreeClassifier()\n",
    "clfr.fit(X_Train,y_Train)\n",
    "result=clfr.predict(X_Test)\n",
    "#print(clfr.score(X_Test,y_Test))\n",
    "setosa=df[df['Species']=='Iris-setosa']\n",
    "versicolor=df[df['Species']=='Iris-versicolor']\n",
    "virginica=df[df['Species']=='Iris-virginica']\n",
    "#fig,ax=plt.subplots(nrows=1,ncols=2,figsize=(13,10))\n",
    "results = confusion_matrix(y_Test, result) \n",
    "#Confusion Matrix \n",
    "print(results) \n",
    "#Accuracy Score \n",
    "print(accuracy_score(y_Test, result))\n",
    "print(classification_report(y_Test, result))"
   ]
  },
  {
   "cell_type": "code",
   "execution_count": null,
   "metadata": {},
   "outputs": [],
   "source": []
  }
 ],
 "metadata": {
  "kernelspec": {
   "display_name": "Python 3",
   "language": "python",
   "name": "python3"
  },
  "language_info": {
   "codemirror_mode": {
    "name": "ipython",
    "version": 3
   },
   "file_extension": ".py",
   "mimetype": "text/x-python",
   "name": "python",
   "nbconvert_exporter": "python",
   "pygments_lexer": "ipython3",
   "version": "3.7.6"
  }
 },
 "nbformat": 4,
 "nbformat_minor": 4
}
